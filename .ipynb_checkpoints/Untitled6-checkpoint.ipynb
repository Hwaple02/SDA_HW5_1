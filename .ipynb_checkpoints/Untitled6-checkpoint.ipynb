{
 "cells": [
  {
   "cell_type": "code",
   "execution_count": 1,
   "id": "7b66436a-6c79-4a83-865e-7bba5acc8208",
   "metadata": {},
   "outputs": [
    {
     "data": {
      "text/plain": [
       "(0.646, 0.328)"
      ]
     },
     "execution_count": 1,
     "metadata": {},
     "output_type": "execute_result"
    }
   ],
   "source": [
    "import numpy as np\n",
    "\n",
    "def monty_hall_simulation(num_trials=1000, switch=True):\n",
    "    win_count = 0\n",
    "\n",
    "    for _ in range(num_trials):\n",
    "        # Randomly place the car behind one of the three doors\n",
    "        car_door = np.random.randint(0, 3)\n",
    "        player_choice = np.random.randint(0, 3)\n",
    "\n",
    "        remaining_doors = [door for door in range(3) if door != car_door and door != player_choice]\n",
    "        host_opens = np.random.choice(remaining_doors)\n",
    "\n",
    "        if switch:\n",
    "            player_choice = [door for door in range(3) if door != player_choice and door != host_opens][0]\n",
    "\n",
    "        if player_choice == car_door:\n",
    "            win_count += 1\n",
    "\n",
    "    return win_count / num_trials\n",
    "\n",
    "switch_win_rate = monty_hall_simulation(num_trials=1000, switch=True)\n",
    "no_switch_win_rate = monty_hall_simulation(num_trials=1000, switch=False)\n",
    "\n",
    "switch_win_rate, no_switch_win_rate\n"
   ]
  },
  {
   "cell_type": "code",
   "execution_count": null,
   "id": "4b8afadb-8ca7-4e93-b5b1-eb3b25e771e6",
   "metadata": {},
   "outputs": [],
   "source": []
  }
 ],
 "metadata": {
  "kernelspec": {
   "display_name": "sda2024",
   "language": "python",
   "name": "sda2024"
  },
  "language_info": {
   "codemirror_mode": {
    "name": "ipython",
    "version": 3
   },
   "file_extension": ".py",
   "mimetype": "text/x-python",
   "name": "python",
   "nbconvert_exporter": "python",
   "pygments_lexer": "ipython3",
   "version": "3.8.18"
  }
 },
 "nbformat": 4,
 "nbformat_minor": 5
}
