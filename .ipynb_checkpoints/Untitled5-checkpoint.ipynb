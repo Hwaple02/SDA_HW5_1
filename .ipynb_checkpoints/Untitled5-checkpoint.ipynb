{
 "cells": [
  {
   "cell_type": "code",
   "execution_count": 14,
   "id": "cc9b196d-2824-4b55-b996-e5b0f7acda95",
   "metadata": {},
   "outputs": [
    {
     "data": {
      "text/plain": [
       "array([[0.84222046, 0.24408869, 0.95246874, ..., 0.86227538, 0.89931195,\n",
       "        0.94409984],\n",
       "       [0.93182094, 0.48249427, 0.18466576, ..., 0.84983251, 0.15158069,\n",
       "        0.70536517],\n",
       "       [0.66895787, 0.75569362, 0.71511316, ..., 0.68925051, 0.10409521,\n",
       "        0.0789601 ],\n",
       "       ...,\n",
       "       [0.18647757, 0.62138355, 0.17345808, ..., 0.32617942, 0.70762144,\n",
       "        0.48635995],\n",
       "       [0.25579058, 0.48429549, 0.73248615, ..., 0.5887814 , 0.2610213 ,\n",
       "        0.73294307],\n",
       "       [0.44505811, 0.47248804, 0.61940496, ..., 0.5003799 , 0.52684222,\n",
       "        0.10475946]])"
      ]
     },
     "execution_count": 14,
     "metadata": {},
     "output_type": "execute_result"
    }
   ],
   "source": [
    "import numpy as np\n",
    "\n",
    "rows, columns = 1000, 1000\n",
    "data_matrix = np.random.rand(rows, columns)\n",
    "\n",
    "data_matrix"
   ]
  },
  {
   "cell_type": "code",
   "execution_count": 15,
   "id": "ac469f6b-36a8-42c2-8c84-5c10c10cf448",
   "metadata": {},
   "outputs": [
    {
     "name": "stdout",
     "output_type": "stream",
     "text": [
      "For loop 방법 실행 시간: 0.0010275840759277344 초\n",
      "For Loop 방법으로 계산된 거리:\n",
      " [[0.         0.71038986 0.72297677 ... 0.         0.         0.        ]\n",
      " [0.71038986 0.         0.82492677 ... 0.         0.         0.        ]\n",
      " [0.72297677 0.82492677 0.         ... 0.         0.         0.        ]\n",
      " ...\n",
      " [0.         0.         0.         ... 0.         0.         0.        ]\n",
      " [0.         0.         0.         ... 0.         0.         0.        ]\n",
      " [0.         0.         0.         ... 0.         0.         0.        ]]\n"
     ]
    }
   ],
   "source": [
    "import numpy as np\n",
    "import time\n",
    "\n",
    "rows, columns = data_matrix.shape\n",
    "distance_matrix_loop = np.zeros((rows, rows))\n",
    "\n",
    "# For loop를 사용하여 거리 계산\n",
    "start_time_loop = time.time()\n",
    "for i in range(num_samples):\n",
    "    for j in range(num_samples):\n",
    "        distance_matrix_loop[i, j] = np.sqrt(np.sum((samples[i] - samples[j])**2))\n",
    "\n",
    "end_time_loop = time.time()\n",
    "loop_duration = end_time_loop - start_time_loop\n",
    "print(f\"For loop 방법 실행 시간: {loop_duration} 초\")\n",
    "print(\"For Loop 방법으로 계산된 거리:\\n\", distance_matrix_loop)"
   ]
  },
  {
   "cell_type": "code",
   "execution_count": 17,
   "id": "15fb9c8b-83a9-4d11-b1e5-b8d7445efc00",
   "metadata": {},
   "outputs": [
    {
     "name": "stdout",
     "output_type": "stream",
     "text": [
      "Vectorize 방법 실행 시간: 30.79706835746765 초\n",
      "Vectorize 방법으로 계산된 거리:\n",
      " [[ 0.         12.93436141 12.81685241 ... 12.77330557 13.03597241\n",
      "  12.58056467]\n",
      " [12.93436141  0.         12.8188124  ... 13.24497703 13.17063713\n",
      "  12.78428016]\n",
      " [12.81685241 12.8188124   0.         ... 12.82351747 12.9885253\n",
      "  12.91732394]\n",
      " ...\n",
      " [12.77330557 13.24497703 12.82351747 ...  0.         12.96300215\n",
      "  13.04669854]\n",
      " [13.03597241 13.17063713 12.9885253  ... 12.96300215  0.\n",
      "  13.00751445]\n",
      " [12.58056467 12.78428016 12.91732394 ... 13.04669854 13.00751445\n",
      "   0.        ]]\n"
     ]
    }
   ],
   "source": [
    "# 벡터화된 방법을 사용하여 거리 계산\n",
    "start_time_vectorized = time.time()\n",
    "distance_matrix_vectorized = np.sqrt(np.sum((data_matrix[:, np.newaxis] - data_matrix) ** 2, axis=2))\n",
    "\n",
    "end_time_vectorized = time.time()\n",
    "vectorized_duration = end_time_vectorized - start_time_vectorized\n",
    "print(f\"Vectorize 방법 실행 시간: {vectorized_duration} 초\")\n",
    "print(\"Vectorize 방법으로 계산된 거리:\\n\", distance_matrix_vectorized)"
   ]
  }
 ],
 "metadata": {
  "kernelspec": {
   "display_name": "sda2024",
   "language": "python",
   "name": "sda2024"
  },
  "language_info": {
   "codemirror_mode": {
    "name": "ipython",
    "version": 3
   },
   "file_extension": ".py",
   "mimetype": "text/x-python",
   "name": "python",
   "nbconvert_exporter": "python",
   "pygments_lexer": "ipython3",
   "version": "3.8.18"
  }
 },
 "nbformat": 4,
 "nbformat_minor": 5
}
