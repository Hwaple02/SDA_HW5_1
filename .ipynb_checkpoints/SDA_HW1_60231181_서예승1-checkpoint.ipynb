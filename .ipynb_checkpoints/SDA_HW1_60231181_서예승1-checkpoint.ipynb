{
 "cells": [
  {
   "cell_type": "code",
   "execution_count": 7,
   "id": "6b516552-7997-4bfc-b0db-5eb13b9b35a4",
   "metadata": {},
   "outputs": [
    {
     "name": "stdout",
     "output_type": "stream",
     "text": [
      "10x10 Matrix - For Loop Times: [0.0010113716125488281, 0.0, 0.0010156631469726562, 0.0009882450103759766, 0.0009958744049072266]\n",
      "10x10 Matrix - Vectorized Times: [0.0, 0.0, 0.0, 0.0, 0.0]\n"
     ]
    }
   ],
   "source": [
    "import numpy as np\n",
    "import time\n",
    "\n",
    "# 10x10 데이터 생성\n",
    "data_matrix_10x10 = np.random.rand(10, 10)\n",
    "\n",
    "# For loop 방식\n",
    "def calculate_distance_for_loop_10x10(data_matrix):\n",
    "    rows = data_matrix.shape[0]\n",
    "    distance_matrix = np.zeros((rows, rows))\n",
    "    for i in range(rows):\n",
    "        for j in range(i+1, rows):\n",
    "            distance = np.linalg.norm(data_matrix[i] - data_matrix[j])\n",
    "            distance_matrix[i, j] = distance\n",
    "            distance_matrix[j, i] = distance\n",
    "    return distance_matrix\n",
    "\n",
    "# Vectorized 방식\n",
    "def calculate_distance_vectorize_10x10(data_matrix):\n",
    "    return np.sqrt(np.sum((data_matrix[:, np.newaxis] - data_matrix)**2, axis=-1))\n",
    "\n",
    "# 실행 시간 측정\n",
    "def measure_execution_time_10x10(func, data_matrix, repetitions=5):\n",
    "    times = []\n",
    "    for _ in range(repetitions):\n",
    "        start_time = time.time()\n",
    "        func(data_matrix)\n",
    "        times.append(time.time() - start_time)\n",
    "    return times\n",
    "\n",
    "# 실행\n",
    "for_loop_times_10x10 = measure_execution_time_10x10(calculate_distance_for_loop_10x10, data_matrix_10x10)\n",
    "vectorize_times_10x10 = measure_execution_time_10x10(calculate_distance_vectorize_10x10, data_matrix_10x10)\n",
    "\n",
    "print(\"10x10 Matrix - For Loop Times:\", for_loop_times_10x10)\n",
    "print(\"10x10 Matrix - Vectorized Times:\", vectorize_times_10x10)"
   ]
  },
  {
   "cell_type": "code",
   "execution_count": 8,
   "id": "ab0199f3-a9e9-4b26-a852-199aaaea6f0e",
   "metadata": {},
   "outputs": [
    {
     "name": "stdout",
     "output_type": "stream",
     "text": [
      "100x100 Matrix - For Loop Times: [0.05598115921020508, 0.057127952575683594, 0.04649496078491211, 0.04829597473144531, 0.0468144416809082]\n",
      "100x100 Matrix - Vectorized Times: [0.00590205192565918, 0.0070993900299072266, 0.007688045501708984, 0.006602764129638672, 0.0077381134033203125]\n"
     ]
    }
   ],
   "source": [
    "import numpy as np\n",
    "import time\n",
    "\n",
    "# 100x100 데이터 생성\n",
    "data_matrix_100x100 = np.random.rand(100, 100)\n",
    "\n",
    "# For loop 방식\n",
    "def calculate_distance_for_loop_100x100(data_matrix):\n",
    "    rows = data_matrix.shape[0]\n",
    "    distance_matrix = np.zeros((rows, rows))\n",
    "    for i in range(rows):\n",
    "        for j in range(i+1, rows):\n",
    "            distance = np.linalg.norm(data_matrix[i] - data_matrix[j])\n",
    "            distance_matrix[i, j] = distance\n",
    "            distance_matrix[j, i] = distance\n",
    "    return distance_matrix\n",
    "\n",
    "# Vectorized 방식\n",
    "def calculate_distance_vectorize_100x100(data_matrix):\n",
    "    return np.sqrt(np.sum((data_matrix[:, np.newaxis] - data_matrix)**2, axis=-1))\n",
    "\n",
    "# 실행 시간 측정\n",
    "def measure_execution_time_100x100(func, data_matrix, repetitions=5):\n",
    "    times = []\n",
    "    for _ in range(repetitions):\n",
    "        start_time = time.time()\n",
    "        func(data_matrix)\n",
    "        times.append(time.time() - start_time)\n",
    "    return times\n",
    "\n",
    "# 실행\n",
    "for_loop_times_100x100 = measure_execution_time_100x100(calculate_distance_for_loop_100x100, data_matrix_100x100)\n",
    "vectorize_times_100x100 = measure_execution_time_100x100(calculate_distance_vectorize_100x100, data_matrix_100x100)\n",
    "\n",
    "print(\"100x100 Matrix - For Loop Times:\", for_loop_times_100x100)\n",
    "print(\"100x100 Matrix - Vectorized Times:\", vectorize_times_100x100)\n"
   ]
  },
  {
   "cell_type": "code",
   "execution_count": 9,
   "id": "2db5a382-eee7-4ac4-be1e-0d4080804787",
   "metadata": {},
   "outputs": [
    {
     "name": "stdout",
     "output_type": "stream",
     "text": [
      "1000x1000 Matrix - For Loop Times: [6.122434616088867, 6.175225734710693, 6.0545666217803955, 6.074216365814209, 5.899410724639893]\n",
      "1000x1000 Matrix - Vectorized Times: [77.12131547927856, 75.42761063575745, 87.55694627761841, 87.24637269973755, 98.71136713027954]\n"
     ]
    }
   ],
   "source": [
    "import numpy as np\n",
    "import time\n",
    "\n",
    "# 1000x1000 데이터 생성\n",
    "data_matrix_1000x1000 = np.random.rand(1000, 1000)\n",
    "\n",
    "# For loop 방식\n",
    "def calculate_distance_for_loop_1000x1000(data_matrix):\n",
    "    rows = data_matrix.shape[0]\n",
    "    distance_matrix = np.zeros((rows, rows))\n",
    "    for i in range(rows):\n",
    "        for j in range(i+1, rows):\n",
    "            distance = np.linalg.norm(data_matrix[i] - data_matrix[j])\n",
    "            distance_matrix[i, j] = distance\n",
    "            distance_matrix[j, i] = distance\n",
    "    return distance_matrix\n",
    "\n",
    "# Vectorized 방식\n",
    "def calculate_distance_vectorize_1000x1000(data_matrix):\n",
    "    return np.sqrt(np.sum((data_matrix[:, np.newaxis] - data_matrix)**2, axis=-1))\n",
    "\n",
    "# 실행 시간 측정\n",
    "def measure_execution_time_1000x1000(func, data_matrix, repetitions=5):\n",
    "    times = []\n",
    "    for _ in range(repetitions):\n",
    "        start_time = time.time()\n",
    "        func(data_matrix)\n",
    "        times.append(time.time() - start_time)\n",
    "    return times\n",
    "\n",
    "# 실행\n",
    "for_loop_times_1000x1000 = measure_execution_time_1000x1000(calculate_distance_for_loop_1000x1000, data_matrix_1000x1000)\n",
    "vectorize_times_1000x1000 = measure_execution_time_1000x1000(calculate_distance_vectorize_1000x1000, data_matrix_1000x1000)\n",
    "\n",
    "print(\"1000x1000 Matrix - For Loop Times:\", for_loop_times_1000x1000)\n",
    "print(\"1000x1000 Matrix - Vectorized Times:\", vectorize_times_1000x1000)\n"
   ]
  },
  {
   "cell_type": "code",
   "execution_count": null,
   "id": "46aeeb47-e628-42eb-8d4a-bf6b0986f062",
   "metadata": {},
   "outputs": [],
   "source": [
    "import numpy as np\n",
    "import time\n",
    "\n",
    "# 10000x10000 데이터 생성\n",
    "data_matrix_10000x10000 = np.random.rand(10000, 10000)\n",
    "\n",
    "# For loop 방식\n",
    "def calculate_distance_for_loop_10000x10000(data_matrix):\n",
    "    rows = data_matrix.shape[0]\n",
    "    distance_matrix = np.zeros((rows, rows))\n",
    "    for i in range(rows):\n",
    "        for j in range(i+1, rows):\n",
    "            distance = np.linalg.norm(data_matrix[i] - data_matrix[j])\n",
    "            distance_matrix[i, j] = distance\n",
    "            distance_matrix[j, i] = distance\n",
    "    return distance_matrix\n",
    "\n",
    "# Vectorized 방식\n",
    "def calculate_distance_vectorize_10000x10000(data_matrix):\n",
    "    return np.sqrt(np.sum((data_matrix[:, np.newaxis] - data_matrix)**2, axis=-1))\n",
    "\n",
    "# 실행 시간 측정\n",
    "def measure_execution_time_10000x10000(func, data_matrix, repetitions=5):\n",
    "    times = []\n",
    "    for _ in range(repetitions):\n",
    "        start_time = time.time()\n",
    "        func(data_matrix)\n",
    "        times.append(time.time() - start_time)\n",
    "    return times\n",
    "\n",
    "# 실행\n",
    "for_loop_times_10000x10000 = measure_execution_time_10000x10000(calculate_distance_for_loop_10000x10000, data_matrix_10000x10000)\n",
    "vectorize_times_10000x10000 = measure_execution_time_10000x10000(calculate_distance_vectorize_10000x10000, data_matrix_10000x10000)\n",
    "\n",
    "print(\"10000x10000 Matrix - For Loop Times:\", for_loop_times_10000x10000)\n",
    "print(\"10000x10000 Matrix - Vectorized Times:\", vectorize_times_10000x10000)\n"
   ]
  },
  {
   "cell_type": "code",
   "execution_count": null,
   "id": "5353cb6b-9608-4ea4-9e7f-a193b7675667",
   "metadata": {},
   "outputs": [],
   "source": []
  }
 ],
 "metadata": {
  "kernelspec": {
   "display_name": "statnv",
   "language": "python",
   "name": "statnv"
  },
  "language_info": {
   "codemirror_mode": {
    "name": "ipython",
    "version": 3
   },
   "file_extension": ".py",
   "mimetype": "text/x-python",
   "name": "python",
   "nbconvert_exporter": "python",
   "pygments_lexer": "ipython3",
   "version": "3.9.0"
  }
 },
 "nbformat": 4,
 "nbformat_minor": 5
}
