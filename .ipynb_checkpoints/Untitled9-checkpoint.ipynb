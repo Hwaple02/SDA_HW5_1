{
 "cells": [
  {
   "cell_type": "code",
   "execution_count": null,
   "id": "2d793bae-e0bd-4c28-b495-5a14e6018763",
   "metadata": {},
   "outputs": [],
   "source": [
    "#인간의두개골길이가평균185.6mm, 표준편차12.7 로정규분포를따른다고하자, 이모집단에서크기10인확률표본의평균치가190 보다클확률은?\n",
    "from scipy.stats import norm\n",
    "import numpy as np\n",
    "mean_s=185.6\n",
    "std_s=12.7"
   ]
  }
 ],
 "metadata": {
  "kernelspec": {
   "display_name": "statnv",
   "language": "python",
   "name": "statenv"
  },
  "language_info": {
   "codemirror_mode": {
    "name": "ipython",
    "version": 3
   },
   "file_extension": ".py",
   "mimetype": "text/x-python",
   "name": "python",
   "nbconvert_exporter": "python",
   "pygments_lexer": "ipython3",
   "version": "3.9.0"
  }
 },
 "nbformat": 4,
 "nbformat_minor": 5
}
